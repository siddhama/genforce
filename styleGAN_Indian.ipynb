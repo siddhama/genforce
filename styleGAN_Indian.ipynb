{
  "cells": [
    {
      "cell_type": "code",
      "execution_count": null,
      "metadata": {
        "colab": {
          "base_uri": "https://localhost:8080/"
        },
        "id": "f2t6oUqBauqN",
        "outputId": "d33a212d-bc24-454d-b035-745f75c265e0"
      },
      "outputs": [],
      "source": [
        "!git clone https://github.com/siddhama/genforce"
      ]
    },
    {
      "cell_type": "code",
      "execution_count": 7,
      "metadata": {
        "colab": {
          "base_uri": "https://localhost:8080/"
        },
        "id": "xc6zJJ9IbQPL",
        "outputId": "dd589e37-43e3-4480-a62d-00536ab8820a"
      },
      "outputs": [
        {
          "name": "stdout",
          "output_type": "stream",
          "text": [
            "/content/genforce\n"
          ]
        }
      ],
      "source": [
        "%cd genforce"
      ]
    },
    {
      "cell_type": "code",
      "execution_count": null,
      "metadata": {
        "colab": {
          "base_uri": "https://localhost:8080/"
        },
        "id": "kKb32v3TbW2N",
        "outputId": "006f7dde-e03b-4e85-a2c8-6aca423a1e0b"
      },
      "outputs": [],
      "source": [
        "!pip install -q condacolab\n",
        "import condacolab\n",
        "condacolab.install()"
      ]
    },
    {
      "cell_type": "code",
      "execution_count": null,
      "metadata": {
        "id": "7KrpQwaobza7"
      },
      "outputs": [],
      "source": [
        "!conda create -n genforce python=3.8\n",
        "!conda activate genforce"
      ]
    },
    {
      "cell_type": "code",
      "execution_count": null,
      "metadata": {
        "id": "Hn_nmwDRb_uo"
      },
      "outputs": [],
      "source": [
        "!conda install cudatoolkit=10.0 cudnn=7.6.5"
      ]
    },
    {
      "cell_type": "code",
      "execution_count": null,
      "metadata": {
        "id": "IlrVTrh4dIRj"
      },
      "outputs": [],
      "source": [
        "!sudo apt install python3-pip"
      ]
    },
    {
      "cell_type": "code",
      "execution_count": null,
      "metadata": {
        "id": "TaH1Up9tp1U1"
      },
      "outputs": [],
      "source": [
        "!python3.8 -m pip install torch==1.7.0+cpu torchvision==0.8.1+cpu torchaudio==0.7.0 -f https://download.pytorch.org/whl/torch_stable.html"
      ]
    },
    {
      "cell_type": "code",
      "execution_count": null,
      "metadata": {
        "id": "mj-Xe5W5dT45"
      },
      "outputs": [],
      "source": [
        "!pip install -r requirements.txt"
      ]
    },
    {
      "cell_type": "code",
      "execution_count": null,
      "metadata": {
        "id": "h7wWHOPMGvgP"
      },
      "outputs": [],
      "source": [
        "#!python synthesize.py stylegan_ffhq1024"
      ]
    },
    {
      "cell_type": "code",
      "execution_count": 10,
      "metadata": {
        "id": "RXAne0TMboR1"
      },
      "outputs": [],
      "source": [
        "!chmod 755 scripts/dist_train_Indianfaces.sh"
      ]
    },
    {
      "cell_type": "code",
      "execution_count": null,
      "metadata": {
        "colab": {
          "base_uri": "https://localhost:8080/"
        },
        "id": "l802vBOiJZRr",
        "outputId": "ba5c998c-e6a6-4a9e-b0c1-c6e05fb0a842"
      },
      "outputs": [],
      "source": [
        "!./scripts/dist_train_Indianfaces.sh #${GPUS} ${CONFIG} ${WORK_DIR}"
      ]
    }
  ],
  "metadata": {
    "accelerator": "GPU",
    "colab": {
      "gpuType": "T4",
      "provenance": []
    },
    "gpuClass": "standard",
    "kernelspec": {
      "display_name": "Python 3",
      "name": "python3"
    },
    "language_info": {
      "name": "python"
    }
  },
  "nbformat": 4,
  "nbformat_minor": 0
}
